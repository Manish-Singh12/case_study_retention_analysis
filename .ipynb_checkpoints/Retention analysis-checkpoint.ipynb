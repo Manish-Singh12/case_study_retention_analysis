{
 "cells": [
  {
   "cell_type": "markdown",
   "id": "89eceda0-bb73-48ff-a396-c5fccc4af87e",
   "metadata": {},
   "source": [
    "# CASE STUDY: RETENTION ANALYSIS"
   ]
  },
  {
   "cell_type": "markdown",
   "id": "7b1a83b9",
   "metadata": {},
   "source": [
    "# Task 1 : Data Quality Check"
   ]
  },
  {
   "cell_type": "code",
   "execution_count": 1,
   "id": "c0dc3137",
   "metadata": {},
   "outputs": [],
   "source": [
    "import pandas as pd\n",
    "import numpy as np\n",
    "import matplotlib.pyplot as plt\n",
    "import seaborn as sns\n",
    "import warnings\n",
    "warnings.filterwarnings(\"ignore\")\n",
    "%matplotlib inline\n",
    "df = pd.read_json(\"retention.json\")"
   ]
  },
  {
   "cell_type": "code",
   "execution_count": 2,
   "id": "7dcaf493",
   "metadata": {},
   "outputs": [],
   "source": [
    "dataframe = df.T"
   ]
  },
  {
   "cell_type": "code",
   "execution_count": 3,
   "id": "23311700",
   "metadata": {},
   "outputs": [
    {
     "data": {
      "text/html": [
       "<div>\n",
       "<style scoped>\n",
       "    .dataframe tbody tr th:only-of-type {\n",
       "        vertical-align: middle;\n",
       "    }\n",
       "\n",
       "    .dataframe tbody tr th {\n",
       "        vertical-align: top;\n",
       "    }\n",
       "\n",
       "    .dataframe thead th {\n",
       "        text-align: right;\n",
       "    }\n",
       "</style>\n",
       "<table border=\"1\" class=\"dataframe\">\n",
       "  <thead>\n",
       "    <tr style=\"text-align: right;\">\n",
       "      <th></th>\n",
       "      <th>gender</th>\n",
       "      <th>age</th>\n",
       "      <th>gross_income</th>\n",
       "      <th>segment</th>\n",
       "      <th>num_credit_cards</th>\n",
       "      <th>tiprel_1mes</th>\n",
       "      <th>ind_actividad_cliente</th>\n",
       "      <th>num_Products</th>\n",
       "      <th>num_loans</th>\n",
       "      <th>duration</th>\n",
       "    </tr>\n",
       "  </thead>\n",
       "  <tbody>\n",
       "    <tr>\n",
       "      <th>0</th>\n",
       "      <td>M</td>\n",
       "      <td>21 years</td>\n",
       "      <td>$ 79070.91</td>\n",
       "      <td>Individuals</td>\n",
       "      <td>0</td>\n",
       "      <td>I</td>\n",
       "      <td>0</td>\n",
       "      <td>1</td>\n",
       "      <td>0</td>\n",
       "      <td>1035</td>\n",
       "    </tr>\n",
       "    <tr>\n",
       "      <th>1</th>\n",
       "      <td>M</td>\n",
       "      <td>23 years</td>\n",
       "      <td>$ 178270.68</td>\n",
       "      <td>College_Graduated</td>\n",
       "      <td>0</td>\n",
       "      <td>I</td>\n",
       "      <td>0</td>\n",
       "      <td>1</td>\n",
       "      <td>0</td>\n",
       "      <td>1097</td>\n",
       "    </tr>\n",
       "    <tr>\n",
       "      <th>2</th>\n",
       "      <td>M</td>\n",
       "      <td>24 years</td>\n",
       "      <td>$ 31243.56</td>\n",
       "      <td>College_Graduated</td>\n",
       "      <td>0</td>\n",
       "      <td>I</td>\n",
       "      <td>1</td>\n",
       "      <td>1</td>\n",
       "      <td>0</td>\n",
       "      <td>1866</td>\n",
       "    </tr>\n",
       "    <tr>\n",
       "      <th>3</th>\n",
       "      <td>M</td>\n",
       "      <td>24 years</td>\n",
       "      <td>$ 130740.54</td>\n",
       "      <td>College_Graduated</td>\n",
       "      <td>0</td>\n",
       "      <td>I</td>\n",
       "      <td>0</td>\n",
       "      <td>1</td>\n",
       "      <td>0</td>\n",
       "      <td>1440</td>\n",
       "    </tr>\n",
       "    <tr>\n",
       "      <th>4</th>\n",
       "      <td>M</td>\n",
       "      <td>31 years</td>\n",
       "      <td>$ 112975.17</td>\n",
       "      <td>Individuals</td>\n",
       "      <td>0</td>\n",
       "      <td>I</td>\n",
       "      <td>0</td>\n",
       "      <td>0</td>\n",
       "      <td>0</td>\n",
       "      <td>376</td>\n",
       "    </tr>\n",
       "    <tr>\n",
       "      <th>...</th>\n",
       "      <td>...</td>\n",
       "      <td>...</td>\n",
       "      <td>...</td>\n",
       "      <td>...</td>\n",
       "      <td>...</td>\n",
       "      <td>...</td>\n",
       "      <td>...</td>\n",
       "      <td>...</td>\n",
       "      <td>...</td>\n",
       "      <td>...</td>\n",
       "    </tr>\n",
       "    <tr>\n",
       "      <th>54025</th>\n",
       "      <td>M</td>\n",
       "      <td>24 years</td>\n",
       "      <td>$ 47237.01</td>\n",
       "      <td>College_Graduated</td>\n",
       "      <td>0</td>\n",
       "      <td>I</td>\n",
       "      <td>1</td>\n",
       "      <td>1</td>\n",
       "      <td>0</td>\n",
       "      <td>1147</td>\n",
       "    </tr>\n",
       "    <tr>\n",
       "      <th>54026</th>\n",
       "      <td>F</td>\n",
       "      <td>46 years</td>\n",
       "      <td>$ 106930.05</td>\n",
       "      <td>Individuals</td>\n",
       "      <td>1</td>\n",
       "      <td>A</td>\n",
       "      <td>1</td>\n",
       "      <td>8</td>\n",
       "      <td>0</td>\n",
       "      <td>6061</td>\n",
       "    </tr>\n",
       "    <tr>\n",
       "      <th>54027</th>\n",
       "      <td>M</td>\n",
       "      <td>24 years</td>\n",
       "      <td>$ 185323.05</td>\n",
       "      <td>College_Graduated</td>\n",
       "      <td>0</td>\n",
       "      <td>I</td>\n",
       "      <td>0</td>\n",
       "      <td>0</td>\n",
       "      <td>0</td>\n",
       "      <td>1817</td>\n",
       "    </tr>\n",
       "    <tr>\n",
       "      <th>54028</th>\n",
       "      <td>F</td>\n",
       "      <td>27 years</td>\n",
       "      <td>$ 65246.79</td>\n",
       "      <td>College_Graduated</td>\n",
       "      <td>0</td>\n",
       "      <td>I</td>\n",
       "      <td>0</td>\n",
       "      <td>1</td>\n",
       "      <td>0</td>\n",
       "      <td>1447</td>\n",
       "    </tr>\n",
       "    <tr>\n",
       "      <th>54029</th>\n",
       "      <td>M</td>\n",
       "      <td>20 years</td>\n",
       "      <td>$ 180678.48</td>\n",
       "      <td>College_Graduated</td>\n",
       "      <td>0</td>\n",
       "      <td>A</td>\n",
       "      <td>0</td>\n",
       "      <td>1</td>\n",
       "      <td>0</td>\n",
       "      <td>366</td>\n",
       "    </tr>\n",
       "  </tbody>\n",
       "</table>\n",
       "<p>54030 rows × 10 columns</p>\n",
       "</div>"
      ],
      "text/plain": [
       "      gender       age gross_income            segment num_credit_cards  \\\n",
       "0          M  21 years   $ 79070.91        Individuals                0   \n",
       "1          M  23 years  $ 178270.68  College_Graduated                0   \n",
       "2          M  24 years   $ 31243.56  College_Graduated                0   \n",
       "3          M  24 years  $ 130740.54  College_Graduated                0   \n",
       "4          M  31 years  $ 112975.17        Individuals                0   \n",
       "...      ...       ...          ...                ...              ...   \n",
       "54025      M  24 years   $ 47237.01  College_Graduated                0   \n",
       "54026      F  46 years  $ 106930.05        Individuals                1   \n",
       "54027      M  24 years  $ 185323.05  College_Graduated                0   \n",
       "54028      F  27 years   $ 65246.79  College_Graduated                0   \n",
       "54029      M  20 years  $ 180678.48  College_Graduated                0   \n",
       "\n",
       "      tiprel_1mes ind_actividad_cliente num_Products num_loans duration  \n",
       "0               I                     0            1         0     1035  \n",
       "1               I                     0            1         0     1097  \n",
       "2               I                     1            1         0     1866  \n",
       "3               I                     0            1         0     1440  \n",
       "4               I                     0            0         0      376  \n",
       "...           ...                   ...          ...       ...      ...  \n",
       "54025           I                     1            1         0     1147  \n",
       "54026           A                     1            8         0     6061  \n",
       "54027           I                     0            0         0     1817  \n",
       "54028           I                     0            1         0     1447  \n",
       "54029           A                     0            1         0      366  \n",
       "\n",
       "[54030 rows x 10 columns]"
      ]
     },
     "execution_count": 3,
     "metadata": {},
     "output_type": "execute_result"
    }
   ],
   "source": [
    "dataframe"
   ]
  },
  {
   "cell_type": "code",
   "execution_count": 4,
   "id": "01f3b9e7",
   "metadata": {},
   "outputs": [],
   "source": [
    "dataframe.to_csv(\"retention.csv\") # Converted json file to csv file "
   ]
  },
  {
   "cell_type": "code",
   "execution_count": 5,
   "id": "08c1afed",
   "metadata": {},
   "outputs": [],
   "source": [
    "d_f = pd.read_csv(\"retention.csv\") # Reading the csv file."
   ]
  },
  {
   "cell_type": "code",
   "execution_count": 6,
   "id": "dc36e91d",
   "metadata": {},
   "outputs": [
    {
     "data": {
      "text/html": [
       "<div>\n",
       "<style scoped>\n",
       "    .dataframe tbody tr th:only-of-type {\n",
       "        vertical-align: middle;\n",
       "    }\n",
       "\n",
       "    .dataframe tbody tr th {\n",
       "        vertical-align: top;\n",
       "    }\n",
       "\n",
       "    .dataframe thead th {\n",
       "        text-align: right;\n",
       "    }\n",
       "</style>\n",
       "<table border=\"1\" class=\"dataframe\">\n",
       "  <thead>\n",
       "    <tr style=\"text-align: right;\">\n",
       "      <th></th>\n",
       "      <th>Unnamed: 0</th>\n",
       "      <th>gender</th>\n",
       "      <th>age</th>\n",
       "      <th>gross_income</th>\n",
       "      <th>segment</th>\n",
       "      <th>num_credit_cards</th>\n",
       "      <th>tiprel_1mes</th>\n",
       "      <th>ind_actividad_cliente</th>\n",
       "      <th>num_Products</th>\n",
       "      <th>num_loans</th>\n",
       "      <th>duration</th>\n",
       "    </tr>\n",
       "  </thead>\n",
       "  <tbody>\n",
       "    <tr>\n",
       "      <th>0</th>\n",
       "      <td>0</td>\n",
       "      <td>M</td>\n",
       "      <td>21 years</td>\n",
       "      <td>$ 79070.91</td>\n",
       "      <td>Individuals</td>\n",
       "      <td>0</td>\n",
       "      <td>I</td>\n",
       "      <td>0</td>\n",
       "      <td>1</td>\n",
       "      <td>0</td>\n",
       "      <td>1035</td>\n",
       "    </tr>\n",
       "    <tr>\n",
       "      <th>1</th>\n",
       "      <td>1</td>\n",
       "      <td>M</td>\n",
       "      <td>23 years</td>\n",
       "      <td>$ 178270.68</td>\n",
       "      <td>College_Graduated</td>\n",
       "      <td>0</td>\n",
       "      <td>I</td>\n",
       "      <td>0</td>\n",
       "      <td>1</td>\n",
       "      <td>0</td>\n",
       "      <td>1097</td>\n",
       "    </tr>\n",
       "    <tr>\n",
       "      <th>2</th>\n",
       "      <td>2</td>\n",
       "      <td>M</td>\n",
       "      <td>24 years</td>\n",
       "      <td>$ 31243.56</td>\n",
       "      <td>College_Graduated</td>\n",
       "      <td>0</td>\n",
       "      <td>I</td>\n",
       "      <td>1</td>\n",
       "      <td>1</td>\n",
       "      <td>0</td>\n",
       "      <td>1866</td>\n",
       "    </tr>\n",
       "    <tr>\n",
       "      <th>3</th>\n",
       "      <td>3</td>\n",
       "      <td>M</td>\n",
       "      <td>24 years</td>\n",
       "      <td>$ 130740.54</td>\n",
       "      <td>College_Graduated</td>\n",
       "      <td>0</td>\n",
       "      <td>I</td>\n",
       "      <td>0</td>\n",
       "      <td>1</td>\n",
       "      <td>0</td>\n",
       "      <td>1440</td>\n",
       "    </tr>\n",
       "    <tr>\n",
       "      <th>4</th>\n",
       "      <td>4</td>\n",
       "      <td>M</td>\n",
       "      <td>31 years</td>\n",
       "      <td>$ 112975.17</td>\n",
       "      <td>Individuals</td>\n",
       "      <td>0</td>\n",
       "      <td>I</td>\n",
       "      <td>0</td>\n",
       "      <td>0</td>\n",
       "      <td>0</td>\n",
       "      <td>376</td>\n",
       "    </tr>\n",
       "  </tbody>\n",
       "</table>\n",
       "</div>"
      ],
      "text/plain": [
       "   Unnamed: 0 gender       age gross_income            segment  \\\n",
       "0           0      M  21 years   $ 79070.91        Individuals   \n",
       "1           1      M  23 years  $ 178270.68  College_Graduated   \n",
       "2           2      M  24 years   $ 31243.56  College_Graduated   \n",
       "3           3      M  24 years  $ 130740.54  College_Graduated   \n",
       "4           4      M  31 years  $ 112975.17        Individuals   \n",
       "\n",
       "   num_credit_cards tiprel_1mes  ind_actividad_cliente  num_Products  \\\n",
       "0                 0           I                      0             1   \n",
       "1                 0           I                      0             1   \n",
       "2                 0           I                      1             1   \n",
       "3                 0           I                      0             1   \n",
       "4                 0           I                      0             0   \n",
       "\n",
       "   num_loans  duration  \n",
       "0          0      1035  \n",
       "1          0      1097  \n",
       "2          0      1866  \n",
       "3          0      1440  \n",
       "4          0       376  "
      ]
     },
     "execution_count": 6,
     "metadata": {},
     "output_type": "execute_result"
    }
   ],
   "source": [
    "d_f.head()"
   ]
  },
  {
   "cell_type": "code",
   "execution_count": 7,
   "id": "c6518105",
   "metadata": {},
   "outputs": [
    {
     "name": "stdout",
     "output_type": "stream",
     "text": [
      "<class 'pandas.core.frame.DataFrame'>\n",
      "RangeIndex: 54030 entries, 0 to 54029\n",
      "Data columns (total 11 columns):\n",
      " #   Column                 Non-Null Count  Dtype \n",
      "---  ------                 --------------  ----- \n",
      " 0   Unnamed: 0             54030 non-null  int64 \n",
      " 1   gender                 54030 non-null  object\n",
      " 2   age                    54030 non-null  object\n",
      " 3   gross_income           54030 non-null  object\n",
      " 4   segment                54030 non-null  object\n",
      " 5   num_credit_cards       54030 non-null  int64 \n",
      " 6   tiprel_1mes            54030 non-null  object\n",
      " 7   ind_actividad_cliente  54030 non-null  int64 \n",
      " 8   num_Products           54030 non-null  int64 \n",
      " 9   num_loans              54030 non-null  int64 \n",
      " 10  duration               54030 non-null  int64 \n",
      "dtypes: int64(6), object(5)\n",
      "memory usage: 4.5+ MB\n"
     ]
    }
   ],
   "source": [
    "d_f.info() # Data type of variables."
   ]
  },
  {
   "cell_type": "code",
   "execution_count": 8,
   "id": "cfec4314",
   "metadata": {},
   "outputs": [
    {
     "data": {
      "text/html": [
       "<div>\n",
       "<style scoped>\n",
       "    .dataframe tbody tr th:only-of-type {\n",
       "        vertical-align: middle;\n",
       "    }\n",
       "\n",
       "    .dataframe tbody tr th {\n",
       "        vertical-align: top;\n",
       "    }\n",
       "\n",
       "    .dataframe thead th {\n",
       "        text-align: right;\n",
       "    }\n",
       "</style>\n",
       "<table border=\"1\" class=\"dataframe\">\n",
       "  <thead>\n",
       "    <tr style=\"text-align: right;\">\n",
       "      <th></th>\n",
       "      <th>count</th>\n",
       "      <th>mean</th>\n",
       "      <th>std</th>\n",
       "      <th>min</th>\n",
       "      <th>25%</th>\n",
       "      <th>50%</th>\n",
       "      <th>75%</th>\n",
       "      <th>max</th>\n",
       "    </tr>\n",
       "  </thead>\n",
       "  <tbody>\n",
       "    <tr>\n",
       "      <th>Unnamed: 0</th>\n",
       "      <td>54030.0</td>\n",
       "      <td>27014.500000</td>\n",
       "      <td>15597.261859</td>\n",
       "      <td>0.0</td>\n",
       "      <td>13507.25</td>\n",
       "      <td>27014.5</td>\n",
       "      <td>40521.75</td>\n",
       "      <td>54029.0</td>\n",
       "    </tr>\n",
       "    <tr>\n",
       "      <th>num_credit_cards</th>\n",
       "      <td>54030.0</td>\n",
       "      <td>0.049880</td>\n",
       "      <td>0.217698</td>\n",
       "      <td>0.0</td>\n",
       "      <td>0.00</td>\n",
       "      <td>0.0</td>\n",
       "      <td>0.00</td>\n",
       "      <td>1.0</td>\n",
       "    </tr>\n",
       "    <tr>\n",
       "      <th>ind_actividad_cliente</th>\n",
       "      <td>54030.0</td>\n",
       "      <td>0.469073</td>\n",
       "      <td>0.499047</td>\n",
       "      <td>0.0</td>\n",
       "      <td>0.00</td>\n",
       "      <td>0.0</td>\n",
       "      <td>1.00</td>\n",
       "      <td>1.0</td>\n",
       "    </tr>\n",
       "    <tr>\n",
       "      <th>num_Products</th>\n",
       "      <td>54030.0</td>\n",
       "      <td>1.536017</td>\n",
       "      <td>1.578848</td>\n",
       "      <td>0.0</td>\n",
       "      <td>1.00</td>\n",
       "      <td>1.0</td>\n",
       "      <td>2.00</td>\n",
       "      <td>13.0</td>\n",
       "    </tr>\n",
       "    <tr>\n",
       "      <th>num_loans</th>\n",
       "      <td>54030.0</td>\n",
       "      <td>0.009365</td>\n",
       "      <td>0.096320</td>\n",
       "      <td>0.0</td>\n",
       "      <td>0.00</td>\n",
       "      <td>0.0</td>\n",
       "      <td>0.00</td>\n",
       "      <td>1.0</td>\n",
       "    </tr>\n",
       "    <tr>\n",
       "      <th>duration</th>\n",
       "      <td>54030.0</td>\n",
       "      <td>2913.936665</td>\n",
       "      <td>2027.956268</td>\n",
       "      <td>366.0</td>\n",
       "      <td>1118.00</td>\n",
       "      <td>2039.5</td>\n",
       "      <td>4693.00</td>\n",
       "      <td>7909.0</td>\n",
       "    </tr>\n",
       "  </tbody>\n",
       "</table>\n",
       "</div>"
      ],
      "text/plain": [
       "                         count          mean           std    min       25%  \\\n",
       "Unnamed: 0             54030.0  27014.500000  15597.261859    0.0  13507.25   \n",
       "num_credit_cards       54030.0      0.049880      0.217698    0.0      0.00   \n",
       "ind_actividad_cliente  54030.0      0.469073      0.499047    0.0      0.00   \n",
       "num_Products           54030.0      1.536017      1.578848    0.0      1.00   \n",
       "num_loans              54030.0      0.009365      0.096320    0.0      0.00   \n",
       "duration               54030.0   2913.936665   2027.956268  366.0   1118.00   \n",
       "\n",
       "                           50%       75%      max  \n",
       "Unnamed: 0             27014.5  40521.75  54029.0  \n",
       "num_credit_cards           0.0      0.00      1.0  \n",
       "ind_actividad_cliente      0.0      1.00      1.0  \n",
       "num_Products               1.0      2.00     13.0  \n",
       "num_loans                  0.0      0.00      1.0  \n",
       "duration                2039.5   4693.00   7909.0  "
      ]
     },
     "execution_count": 8,
     "metadata": {},
     "output_type": "execute_result"
    }
   ],
   "source": [
    "d_f.describe().T # Numeric summary"
   ]
  },
  {
   "cell_type": "code",
   "execution_count": 9,
   "id": "97745a52",
   "metadata": {},
   "outputs": [
    {
     "data": {
      "text/html": [
       "<div>\n",
       "<style scoped>\n",
       "    .dataframe tbody tr th:only-of-type {\n",
       "        vertical-align: middle;\n",
       "    }\n",
       "\n",
       "    .dataframe tbody tr th {\n",
       "        vertical-align: top;\n",
       "    }\n",
       "\n",
       "    .dataframe thead th {\n",
       "        text-align: right;\n",
       "    }\n",
       "</style>\n",
       "<table border=\"1\" class=\"dataframe\">\n",
       "  <thead>\n",
       "    <tr style=\"text-align: right;\">\n",
       "      <th></th>\n",
       "      <th>count</th>\n",
       "      <th>unique</th>\n",
       "      <th>top</th>\n",
       "      <th>freq</th>\n",
       "    </tr>\n",
       "  </thead>\n",
       "  <tbody>\n",
       "    <tr>\n",
       "      <th>gender</th>\n",
       "      <td>54030</td>\n",
       "      <td>2</td>\n",
       "      <td>F</td>\n",
       "      <td>29681</td>\n",
       "    </tr>\n",
       "    <tr>\n",
       "      <th>age</th>\n",
       "      <td>54030</td>\n",
       "      <td>110</td>\n",
       "      <td>23 years</td>\n",
       "      <td>3080</td>\n",
       "    </tr>\n",
       "    <tr>\n",
       "      <th>gross_income</th>\n",
       "      <td>54030</td>\n",
       "      <td>49994</td>\n",
       "      <td>$ 451931.22</td>\n",
       "      <td>29</td>\n",
       "    </tr>\n",
       "    <tr>\n",
       "      <th>segment</th>\n",
       "      <td>54030</td>\n",
       "      <td>3</td>\n",
       "      <td>Individuals</td>\n",
       "      <td>32607</td>\n",
       "    </tr>\n",
       "    <tr>\n",
       "      <th>tiprel_1mes</th>\n",
       "      <td>54030</td>\n",
       "      <td>2</td>\n",
       "      <td>I</td>\n",
       "      <td>29026</td>\n",
       "    </tr>\n",
       "  </tbody>\n",
       "</table>\n",
       "</div>"
      ],
      "text/plain": [
       "              count unique          top   freq\n",
       "gender        54030      2            F  29681\n",
       "age           54030    110     23 years   3080\n",
       "gross_income  54030  49994  $ 451931.22     29\n",
       "segment       54030      3  Individuals  32607\n",
       "tiprel_1mes   54030      2            I  29026"
      ]
     },
     "execution_count": 9,
     "metadata": {},
     "output_type": "execute_result"
    }
   ],
   "source": [
    "d_f.describe(include = \"object\").T # Categorical Summary"
   ]
  },
  {
   "cell_type": "markdown",
   "id": "e54fb7f3",
   "metadata": {},
   "source": [
    "## Variable whose data-type needs to be changed\n",
    "\n",
    "- age can't be an object variable, thus needs to be changed to integer variable.\n",
    "- gross_income is a continuous value, thus needs to be changed to floating variable.\n",
    "- ind_actividad_cliente is defining a category, so it needs to be changed to an object variable."
   ]
  },
  {
   "cell_type": "code",
   "execution_count": 10,
   "id": "6291ad36",
   "metadata": {},
   "outputs": [],
   "source": [
    "d_f[\"gross_income\"] = d_f[\"gross_income\"].str.replace(\"$\",\"\")\n",
    "d_f[\"gross_income\"] = d_f[\"gross_income\"].astype(\"float64\")"
   ]
  },
  {
   "cell_type": "code",
   "execution_count": 11,
   "id": "d5cba604",
   "metadata": {},
   "outputs": [],
   "source": [
    "d_f[\"age\"] = d_f[\"age\"].str.replace(\"years\",\"\")\n",
    "d_f[\"age\"] = d_f[\"age\"].astype(\"int64\")"
   ]
  },
  {
   "cell_type": "code",
   "execution_count": 12,
   "id": "65250710",
   "metadata": {},
   "outputs": [],
   "source": [
    "d_f[\"ind_actividad_cliente\"] = d_f[\"ind_actividad_cliente\"].astype(\"object\")"
   ]
  },
  {
   "cell_type": "code",
   "execution_count": 13,
   "id": "ccc6b7eb",
   "metadata": {},
   "outputs": [
    {
     "data": {
      "text/html": [
       "<div>\n",
       "<style scoped>\n",
       "    .dataframe tbody tr th:only-of-type {\n",
       "        vertical-align: middle;\n",
       "    }\n",
       "\n",
       "    .dataframe tbody tr th {\n",
       "        vertical-align: top;\n",
       "    }\n",
       "\n",
       "    .dataframe thead th {\n",
       "        text-align: right;\n",
       "    }\n",
       "</style>\n",
       "<table border=\"1\" class=\"dataframe\">\n",
       "  <thead>\n",
       "    <tr style=\"text-align: right;\">\n",
       "      <th></th>\n",
       "      <th>Unnamed: 0</th>\n",
       "      <th>gender</th>\n",
       "      <th>age</th>\n",
       "      <th>gross_income</th>\n",
       "      <th>segment</th>\n",
       "      <th>num_credit_cards</th>\n",
       "      <th>tiprel_1mes</th>\n",
       "      <th>ind_actividad_cliente</th>\n",
       "      <th>num_Products</th>\n",
       "      <th>num_loans</th>\n",
       "      <th>duration</th>\n",
       "    </tr>\n",
       "  </thead>\n",
       "  <tbody>\n",
       "    <tr>\n",
       "      <th>0</th>\n",
       "      <td>0</td>\n",
       "      <td>M</td>\n",
       "      <td>21</td>\n",
       "      <td>79070.91</td>\n",
       "      <td>Individuals</td>\n",
       "      <td>0</td>\n",
       "      <td>I</td>\n",
       "      <td>0</td>\n",
       "      <td>1</td>\n",
       "      <td>0</td>\n",
       "      <td>1035</td>\n",
       "    </tr>\n",
       "    <tr>\n",
       "      <th>1</th>\n",
       "      <td>1</td>\n",
       "      <td>M</td>\n",
       "      <td>23</td>\n",
       "      <td>178270.68</td>\n",
       "      <td>College_Graduated</td>\n",
       "      <td>0</td>\n",
       "      <td>I</td>\n",
       "      <td>0</td>\n",
       "      <td>1</td>\n",
       "      <td>0</td>\n",
       "      <td>1097</td>\n",
       "    </tr>\n",
       "    <tr>\n",
       "      <th>2</th>\n",
       "      <td>2</td>\n",
       "      <td>M</td>\n",
       "      <td>24</td>\n",
       "      <td>31243.56</td>\n",
       "      <td>College_Graduated</td>\n",
       "      <td>0</td>\n",
       "      <td>I</td>\n",
       "      <td>1</td>\n",
       "      <td>1</td>\n",
       "      <td>0</td>\n",
       "      <td>1866</td>\n",
       "    </tr>\n",
       "    <tr>\n",
       "      <th>3</th>\n",
       "      <td>3</td>\n",
       "      <td>M</td>\n",
       "      <td>24</td>\n",
       "      <td>130740.54</td>\n",
       "      <td>College_Graduated</td>\n",
       "      <td>0</td>\n",
       "      <td>I</td>\n",
       "      <td>0</td>\n",
       "      <td>1</td>\n",
       "      <td>0</td>\n",
       "      <td>1440</td>\n",
       "    </tr>\n",
       "    <tr>\n",
       "      <th>4</th>\n",
       "      <td>4</td>\n",
       "      <td>M</td>\n",
       "      <td>31</td>\n",
       "      <td>112975.17</td>\n",
       "      <td>Individuals</td>\n",
       "      <td>0</td>\n",
       "      <td>I</td>\n",
       "      <td>0</td>\n",
       "      <td>0</td>\n",
       "      <td>0</td>\n",
       "      <td>376</td>\n",
       "    </tr>\n",
       "  </tbody>\n",
       "</table>\n",
       "</div>"
      ],
      "text/plain": [
       "   Unnamed: 0 gender  age  gross_income            segment  num_credit_cards  \\\n",
       "0           0      M   21      79070.91        Individuals                 0   \n",
       "1           1      M   23     178270.68  College_Graduated                 0   \n",
       "2           2      M   24      31243.56  College_Graduated                 0   \n",
       "3           3      M   24     130740.54  College_Graduated                 0   \n",
       "4           4      M   31     112975.17        Individuals                 0   \n",
       "\n",
       "  tiprel_1mes ind_actividad_cliente  num_Products  num_loans  duration  \n",
       "0           I                     0             1          0      1035  \n",
       "1           I                     0             1          0      1097  \n",
       "2           I                     1             1          0      1866  \n",
       "3           I                     0             1          0      1440  \n",
       "4           I                     0             0          0       376  "
      ]
     },
     "execution_count": 13,
     "metadata": {},
     "output_type": "execute_result"
    }
   ],
   "source": [
    "d_f.head()"
   ]
  },
  {
   "cell_type": "code",
   "execution_count": 14,
   "id": "d1e396fc",
   "metadata": {},
   "outputs": [
    {
     "data": {
      "text/plain": [
       "Unnamed: 0                 int64\n",
       "gender                    object\n",
       "age                        int64\n",
       "gross_income             float64\n",
       "segment                   object\n",
       "num_credit_cards           int64\n",
       "tiprel_1mes               object\n",
       "ind_actividad_cliente     object\n",
       "num_Products               int64\n",
       "num_loans                  int64\n",
       "duration                   int64\n",
       "dtype: object"
      ]
     },
     "execution_count": 14,
     "metadata": {},
     "output_type": "execute_result"
    }
   ],
   "source": [
    "d_f.dtypes"
   ]
  },
  {
   "cell_type": "code",
   "execution_count": 15,
   "id": "9bcec98d",
   "metadata": {},
   "outputs": [
    {
     "data": {
      "text/html": [
       "<div>\n",
       "<style scoped>\n",
       "    .dataframe tbody tr th:only-of-type {\n",
       "        vertical-align: middle;\n",
       "    }\n",
       "\n",
       "    .dataframe tbody tr th {\n",
       "        vertical-align: top;\n",
       "    }\n",
       "\n",
       "    .dataframe thead th {\n",
       "        text-align: right;\n",
       "    }\n",
       "</style>\n",
       "<table border=\"1\" class=\"dataframe\">\n",
       "  <thead>\n",
       "    <tr style=\"text-align: right;\">\n",
       "      <th></th>\n",
       "      <th>count</th>\n",
       "      <th>mean</th>\n",
       "      <th>std</th>\n",
       "      <th>min</th>\n",
       "      <th>25%</th>\n",
       "      <th>50%</th>\n",
       "      <th>75%</th>\n",
       "      <th>max</th>\n",
       "    </tr>\n",
       "  </thead>\n",
       "  <tbody>\n",
       "    <tr>\n",
       "      <th>Unnamed: 0</th>\n",
       "      <td>54030.0</td>\n",
       "      <td>27014.500000</td>\n",
       "      <td>15597.261859</td>\n",
       "      <td>0.00</td>\n",
       "      <td>13507.2500</td>\n",
       "      <td>27014.50</td>\n",
       "      <td>40521.750</td>\n",
       "      <td>54029.00</td>\n",
       "    </tr>\n",
       "    <tr>\n",
       "      <th>age</th>\n",
       "      <td>54030.0</td>\n",
       "      <td>40.772534</td>\n",
       "      <td>17.210781</td>\n",
       "      <td>2.00</td>\n",
       "      <td>25.0000</td>\n",
       "      <td>40.00</td>\n",
       "      <td>51.000</td>\n",
       "      <td>112.00</td>\n",
       "    </tr>\n",
       "    <tr>\n",
       "      <th>gross_income</th>\n",
       "      <td>54030.0</td>\n",
       "      <td>134196.672404</td>\n",
       "      <td>239721.455090</td>\n",
       "      <td>2336.01</td>\n",
       "      <td>68581.0725</td>\n",
       "      <td>101566.32</td>\n",
       "      <td>156253.755</td>\n",
       "      <td>28894395.51</td>\n",
       "    </tr>\n",
       "    <tr>\n",
       "      <th>num_credit_cards</th>\n",
       "      <td>54030.0</td>\n",
       "      <td>0.049880</td>\n",
       "      <td>0.217698</td>\n",
       "      <td>0.00</td>\n",
       "      <td>0.0000</td>\n",
       "      <td>0.00</td>\n",
       "      <td>0.000</td>\n",
       "      <td>1.00</td>\n",
       "    </tr>\n",
       "    <tr>\n",
       "      <th>num_Products</th>\n",
       "      <td>54030.0</td>\n",
       "      <td>1.536017</td>\n",
       "      <td>1.578848</td>\n",
       "      <td>0.00</td>\n",
       "      <td>1.0000</td>\n",
       "      <td>1.00</td>\n",
       "      <td>2.000</td>\n",
       "      <td>13.00</td>\n",
       "    </tr>\n",
       "    <tr>\n",
       "      <th>num_loans</th>\n",
       "      <td>54030.0</td>\n",
       "      <td>0.009365</td>\n",
       "      <td>0.096320</td>\n",
       "      <td>0.00</td>\n",
       "      <td>0.0000</td>\n",
       "      <td>0.00</td>\n",
       "      <td>0.000</td>\n",
       "      <td>1.00</td>\n",
       "    </tr>\n",
       "    <tr>\n",
       "      <th>duration</th>\n",
       "      <td>54030.0</td>\n",
       "      <td>2913.936665</td>\n",
       "      <td>2027.956268</td>\n",
       "      <td>366.00</td>\n",
       "      <td>1118.0000</td>\n",
       "      <td>2039.50</td>\n",
       "      <td>4693.000</td>\n",
       "      <td>7909.00</td>\n",
       "    </tr>\n",
       "  </tbody>\n",
       "</table>\n",
       "</div>"
      ],
      "text/plain": [
       "                    count           mean            std      min         25%  \\\n",
       "Unnamed: 0        54030.0   27014.500000   15597.261859     0.00  13507.2500   \n",
       "age               54030.0      40.772534      17.210781     2.00     25.0000   \n",
       "gross_income      54030.0  134196.672404  239721.455090  2336.01  68581.0725   \n",
       "num_credit_cards  54030.0       0.049880       0.217698     0.00      0.0000   \n",
       "num_Products      54030.0       1.536017       1.578848     0.00      1.0000   \n",
       "num_loans         54030.0       0.009365       0.096320     0.00      0.0000   \n",
       "duration          54030.0    2913.936665    2027.956268   366.00   1118.0000   \n",
       "\n",
       "                        50%         75%          max  \n",
       "Unnamed: 0         27014.50   40521.750     54029.00  \n",
       "age                   40.00      51.000       112.00  \n",
       "gross_income      101566.32  156253.755  28894395.51  \n",
       "num_credit_cards       0.00       0.000         1.00  \n",
       "num_Products           1.00       2.000        13.00  \n",
       "num_loans              0.00       0.000         1.00  \n",
       "duration            2039.50    4693.000      7909.00  "
      ]
     },
     "execution_count": 15,
     "metadata": {},
     "output_type": "execute_result"
    }
   ],
   "source": [
    "d_f.describe().T # Numeric summary (after changing data-type)"
   ]
  },
  {
   "cell_type": "code",
   "execution_count": 16,
   "id": "954a890c",
   "metadata": {},
   "outputs": [
    {
     "data": {
      "text/html": [
       "<div>\n",
       "<style scoped>\n",
       "    .dataframe tbody tr th:only-of-type {\n",
       "        vertical-align: middle;\n",
       "    }\n",
       "\n",
       "    .dataframe tbody tr th {\n",
       "        vertical-align: top;\n",
       "    }\n",
       "\n",
       "    .dataframe thead th {\n",
       "        text-align: right;\n",
       "    }\n",
       "</style>\n",
       "<table border=\"1\" class=\"dataframe\">\n",
       "  <thead>\n",
       "    <tr style=\"text-align: right;\">\n",
       "      <th></th>\n",
       "      <th>count</th>\n",
       "      <th>unique</th>\n",
       "      <th>top</th>\n",
       "      <th>freq</th>\n",
       "    </tr>\n",
       "  </thead>\n",
       "  <tbody>\n",
       "    <tr>\n",
       "      <th>gender</th>\n",
       "      <td>54030</td>\n",
       "      <td>2</td>\n",
       "      <td>F</td>\n",
       "      <td>29681</td>\n",
       "    </tr>\n",
       "    <tr>\n",
       "      <th>segment</th>\n",
       "      <td>54030</td>\n",
       "      <td>3</td>\n",
       "      <td>Individuals</td>\n",
       "      <td>32607</td>\n",
       "    </tr>\n",
       "    <tr>\n",
       "      <th>tiprel_1mes</th>\n",
       "      <td>54030</td>\n",
       "      <td>2</td>\n",
       "      <td>I</td>\n",
       "      <td>29026</td>\n",
       "    </tr>\n",
       "    <tr>\n",
       "      <th>ind_actividad_cliente</th>\n",
       "      <td>54030</td>\n",
       "      <td>2</td>\n",
       "      <td>0</td>\n",
       "      <td>28686</td>\n",
       "    </tr>\n",
       "  </tbody>\n",
       "</table>\n",
       "</div>"
      ],
      "text/plain": [
       "                       count unique          top   freq\n",
       "gender                 54030      2            F  29681\n",
       "segment                54030      3  Individuals  32607\n",
       "tiprel_1mes            54030      2            I  29026\n",
       "ind_actividad_cliente  54030      2            0  28686"
      ]
     },
     "execution_count": 16,
     "metadata": {},
     "output_type": "execute_result"
    }
   ],
   "source": [
    "d_f.describe(include = \"object\").T # Categorical Summary (after changing data-type)"
   ]
  },
  {
   "cell_type": "code",
   "execution_count": 17,
   "id": "469470cc",
   "metadata": {},
   "outputs": [],
   "source": [
    "df_1 = d_f # For further requirement (if any), I am not doing changes to d_f. "
   ]
  },
  {
   "cell_type": "markdown",
   "id": "050049e5",
   "metadata": {},
   "source": [
    "## Data Cleaning\n",
    "\n",
    "- Focusing on numerical variables, having very few unique values and have low variance."
   ]
  },
  {
   "cell_type": "code",
   "execution_count": 20,
   "id": "d8eedb2d",
   "metadata": {},
   "outputs": [],
   "source": [
    "from sklearn.feature_selection import VarianceThreshold"
   ]
  },
  {
   "cell_type": "code",
   "execution_count": 21,
   "id": "30aa7a7c",
   "metadata": {},
   "outputs": [],
   "source": [
    "X = df_1.drop(labels = [\"tiprel_1mes\",\"ind_actividad_cliente\", \"Unnamed: 0\", \"gender\", \"segment\"], axis = 1)"
   ]
  },
  {
   "cell_type": "code",
   "execution_count": 22,
   "id": "39955b90",
   "metadata": {},
   "outputs": [
    {
     "data": {
      "text/html": [
       "<div>\n",
       "<style scoped>\n",
       "    .dataframe tbody tr th:only-of-type {\n",
       "        vertical-align: middle;\n",
       "    }\n",
       "\n",
       "    .dataframe tbody tr th {\n",
       "        vertical-align: top;\n",
       "    }\n",
       "\n",
       "    .dataframe thead th {\n",
       "        text-align: right;\n",
       "    }\n",
       "</style>\n",
       "<table border=\"1\" class=\"dataframe\">\n",
       "  <thead>\n",
       "    <tr style=\"text-align: right;\">\n",
       "      <th></th>\n",
       "      <th>age</th>\n",
       "      <th>gross_income</th>\n",
       "      <th>num_credit_cards</th>\n",
       "      <th>num_Products</th>\n",
       "      <th>num_loans</th>\n",
       "      <th>duration</th>\n",
       "    </tr>\n",
       "  </thead>\n",
       "  <tbody>\n",
       "    <tr>\n",
       "      <th>0</th>\n",
       "      <td>21</td>\n",
       "      <td>79070.91</td>\n",
       "      <td>0</td>\n",
       "      <td>1</td>\n",
       "      <td>0</td>\n",
       "      <td>1035</td>\n",
       "    </tr>\n",
       "    <tr>\n",
       "      <th>1</th>\n",
       "      <td>23</td>\n",
       "      <td>178270.68</td>\n",
       "      <td>0</td>\n",
       "      <td>1</td>\n",
       "      <td>0</td>\n",
       "      <td>1097</td>\n",
       "    </tr>\n",
       "    <tr>\n",
       "      <th>2</th>\n",
       "      <td>24</td>\n",
       "      <td>31243.56</td>\n",
       "      <td>0</td>\n",
       "      <td>1</td>\n",
       "      <td>0</td>\n",
       "      <td>1866</td>\n",
       "    </tr>\n",
       "    <tr>\n",
       "      <th>3</th>\n",
       "      <td>24</td>\n",
       "      <td>130740.54</td>\n",
       "      <td>0</td>\n",
       "      <td>1</td>\n",
       "      <td>0</td>\n",
       "      <td>1440</td>\n",
       "    </tr>\n",
       "    <tr>\n",
       "      <th>4</th>\n",
       "      <td>31</td>\n",
       "      <td>112975.17</td>\n",
       "      <td>0</td>\n",
       "      <td>0</td>\n",
       "      <td>0</td>\n",
       "      <td>376</td>\n",
       "    </tr>\n",
       "  </tbody>\n",
       "</table>\n",
       "</div>"
      ],
      "text/plain": [
       "   age  gross_income  num_credit_cards  num_Products  num_loans  duration\n",
       "0   21      79070.91                 0             1          0      1035\n",
       "1   23     178270.68                 0             1          0      1097\n",
       "2   24      31243.56                 0             1          0      1866\n",
       "3   24     130740.54                 0             1          0      1440\n",
       "4   31     112975.17                 0             0          0       376"
      ]
     },
     "execution_count": 22,
     "metadata": {},
     "output_type": "execute_result"
    }
   ],
   "source": [
    "X.head()"
   ]
  },
  {
   "cell_type": "code",
   "execution_count": 23,
   "id": "c9d48788",
   "metadata": {},
   "outputs": [
    {
     "name": "stdout",
     "output_type": "stream",
     "text": [
      "Threshold = 0.00, Features = 6\n",
      "Threshold = 0.05, Features = 4\n",
      "Threshold = 0.10, Features = 4\n",
      "Threshold = 0.15, Features = 4\n",
      "Threshold = 0.20, Features = 4\n",
      "Threshold = 0.25, Features = 4\n",
      "Threshold = 0.30, Features = 4\n",
      "Threshold = 0.35, Features = 4\n",
      "Threshold = 0.40, Features = 4\n",
      "Threshold = 0.45, Features = 4\n",
      "Threshold = 0.50, Features = 4\n"
     ]
    },
    {
     "data": {
      "image/png": "[encoded data removed]",
      "text/plain": [
       "<Figure size 640x480 with 1 Axes>"
      ]
     },
     "metadata": {},
     "output_type": "display_data"
    }
   ],
   "source": [
    "thresholds = np.arange(0.0, 0.55, 0.05)\n",
    "results = list()\n",
    "for t in thresholds:\n",
    "    transform = VarianceThreshold(threshold = t)\n",
    "    X_sel = transform.fit_transform(X)\n",
    "    n_features = X_sel.shape[1]\n",
    "    print('Threshold = %.2f, Features = %d' %(t, n_features))\n",
    "    results.append(n_features)\n",
    "plt.plot(thresholds, results)\n",
    "plt.show()"
   ]
  },
  {
   "cell_type": "code",
   "execution_count": 24,
   "id": "8bb87487",
   "metadata": {},
   "outputs": [],
   "source": [
    "df_2 = df_1.drop(labels = [\"num_credit_cards\", \"num_loans\"], axis = 1) # Dropped \"num_credit_cards\" and \"num_loans\""
   ]
  },
  {
   "cell_type": "code",
   "execution_count": 25,
   "id": "c1ad09dc",
   "metadata": {},
   "outputs": [
    {
     "data": {
      "text/html": [
       "<div>\n",
       "<style scoped>\n",
       "    .dataframe tbody tr th:only-of-type {\n",
       "        vertical-align: middle;\n",
       "    }\n",
       "\n",
       "    .dataframe tbody tr th {\n",
       "        vertical-align: top;\n",
       "    }\n",
       "\n",
       "    .dataframe thead th {\n",
       "        text-align: right;\n",
       "    }\n",
       "</style>\n",
       "<table border=\"1\" class=\"dataframe\">\n",
       "  <thead>\n",
       "    <tr style=\"text-align: right;\">\n",
       "      <th></th>\n",
       "      <th>Unnamed: 0</th>\n",
       "      <th>gender</th>\n",
       "      <th>age</th>\n",
       "      <th>gross_income</th>\n",
       "      <th>segment</th>\n",
       "      <th>tiprel_1mes</th>\n",
       "      <th>ind_actividad_cliente</th>\n",
       "      <th>num_Products</th>\n",
       "      <th>duration</th>\n",
       "    </tr>\n",
       "  </thead>\n",
       "  <tbody>\n",
       "    <tr>\n",
       "      <th>0</th>\n",
       "      <td>0</td>\n",
       "      <td>M</td>\n",
       "      <td>21</td>\n",
       "      <td>79070.91</td>\n",
       "      <td>Individuals</td>\n",
       "      <td>I</td>\n",
       "      <td>0</td>\n",
       "      <td>1</td>\n",
       "      <td>1035</td>\n",
       "    </tr>\n",
       "    <tr>\n",
       "      <th>1</th>\n",
       "      <td>1</td>\n",
       "      <td>M</td>\n",
       "      <td>23</td>\n",
       "      <td>178270.68</td>\n",
       "      <td>College_Graduated</td>\n",
       "      <td>I</td>\n",
       "      <td>0</td>\n",
       "      <td>1</td>\n",
       "      <td>1097</td>\n",
       "    </tr>\n",
       "    <tr>\n",
       "      <th>2</th>\n",
       "      <td>2</td>\n",
       "      <td>M</td>\n",
       "      <td>24</td>\n",
       "      <td>31243.56</td>\n",
       "      <td>College_Graduated</td>\n",
       "      <td>I</td>\n",
       "      <td>1</td>\n",
       "      <td>1</td>\n",
       "      <td>1866</td>\n",
       "    </tr>\n",
       "    <tr>\n",
       "      <th>3</th>\n",
       "      <td>3</td>\n",
       "      <td>M</td>\n",
       "      <td>24</td>\n",
       "      <td>130740.54</td>\n",
       "      <td>College_Graduated</td>\n",
       "      <td>I</td>\n",
       "      <td>0</td>\n",
       "      <td>1</td>\n",
       "      <td>1440</td>\n",
       "    </tr>\n",
       "    <tr>\n",
       "      <th>4</th>\n",
       "      <td>4</td>\n",
       "      <td>M</td>\n",
       "      <td>31</td>\n",
       "      <td>112975.17</td>\n",
       "      <td>Individuals</td>\n",
       "      <td>I</td>\n",
       "      <td>0</td>\n",
       "      <td>0</td>\n",
       "      <td>376</td>\n",
       "    </tr>\n",
       "  </tbody>\n",
       "</table>\n",
       "</div>"
      ],
      "text/plain": [
       "   Unnamed: 0 gender  age  gross_income            segment tiprel_1mes  \\\n",
       "0           0      M   21      79070.91        Individuals           I   \n",
       "1           1      M   23     178270.68  College_Graduated           I   \n",
       "2           2      M   24      31243.56  College_Graduated           I   \n",
       "3           3      M   24     130740.54  College_Graduated           I   \n",
       "4           4      M   31     112975.17        Individuals           I   \n",
       "\n",
       "  ind_actividad_cliente  num_Products  duration  \n",
       "0                     0             1      1035  \n",
       "1                     0             1      1097  \n",
       "2                     1             1      1866  \n",
       "3                     0             1      1440  \n",
       "4                     0             0       376  "
      ]
     },
     "execution_count": 25,
     "metadata": {},
     "output_type": "execute_result"
    }
   ],
   "source": [
    "df_2.head()"
   ]
  },
  {
   "cell_type": "markdown",
   "id": "1f932262",
   "metadata": {},
   "source": [
    "## Handling missing data"
   ]
  },
  {
   "cell_type": "code",
   "execution_count": 26,
   "id": "dcd1b044",
   "metadata": {
    "scrolled": true
   },
   "outputs": [
    {
     "data": {
      "text/plain": [
       "Unnamed: 0               0\n",
       "gender                   0\n",
       "age                      0\n",
       "gross_income             0\n",
       "segment                  0\n",
       "tiprel_1mes              0\n",
       "ind_actividad_cliente    0\n",
       "num_Products             0\n",
       "duration                 0\n",
       "dtype: int64"
      ]
     },
     "execution_count": 26,
     "metadata": {},
     "output_type": "execute_result"
    }
   ],
   "source": [
    "df_2.isnull().sum()"
   ]
  },
  {
   "cell_type": "markdown",
   "id": "aa533870",
   "metadata": {},
   "source": [
    "- The dataset don't have any missing values. So, missing values treatment is not being done."
   ]
  },
  {
   "cell_type": "code",
   "execution_count": 27,
   "id": "5129610c",
   "metadata": {},
   "outputs": [],
   "source": [
    "df_3 = df_2.drop(labels = \"Unnamed: 0\", axis = 1)"
   ]
  },
  {
   "cell_type": "markdown",
   "id": "3c8247d6",
   "metadata": {},
   "source": [
    "## In case there are extreme values present in a variable do the appropriate treatment."
   ]
  },
  {
   "cell_type": "code",
   "execution_count": 28,
   "id": "ab638ea4",
   "metadata": {},
   "outputs": [
    {
     "name": "stdout",
     "output_type": "stream",
     "text": [
      "Numerical fields\t: 4\n",
      "Categorical fields\t: 4\n"
     ]
    }
   ],
   "source": [
    "df_num = df_3.select_dtypes(include = np.number)  # Numeric fields\n",
    "df_cat = df_3.select_dtypes(exclude = np.number)  # Categorical fields\n",
    "print(\"Numerical fields\\t:\",len(df_num.columns))\n",
    "print(\"Categorical fields\\t:\",len(df_cat.columns))"
   ]
  },
  {
   "cell_type": "markdown",
   "id": "8bcb6ac5",
   "metadata": {},
   "source": [
    "## Detecting outliers using Boxplot and Distplot: "
   ]
  },
  {
   "cell_type": "code",
   "execution_count": 29,
   "id": "047a5ba2",
   "metadata": {},
   "outputs": [
    {
     "data": {
      "image/png": "[encoded data removed]",
      "text/plain": [
       "<Figure size 640x480 with 1 Axes>"
      ]
     },
     "metadata": {},
     "output_type": "display_data"
    },
    {
     "data": {
      "image/png": "[encoded data removed]",
      "text/plain": [
       "<Figure size 640x480 with 1 Axes>"
      ]
     },
     "metadata": {},
     "output_type": "display_data"
    },
    {
     "data": {
      "image/png": "[encoded data removed]",
      "text/plain": [
       "<Figure size 640x480 with 1 Axes>"
      ]
     },
     "metadata": {},
     "output_type": "display_data"
    },
    {
     "data": {
      "image/png": "[encoded data removed]",
      "text/plain": [
       "<Figure size 640x480 with 1 Axes>"
      ]
     },
     "metadata": {},
     "output_type": "display_data"
    }
   ],
   "source": [
    "for i in df_num.columns:\n",
    "    sns.boxplot(df_num[i], palette = 'CMRmap')\n",
    "    plt.title(\"Boxplot of \" +i)\n",
    "    plt.show();"
   ]
  },
  {
   "cell_type": "code",
   "execution_count": 30,
   "id": "7571f66e",
   "metadata": {},
   "outputs": [
    {
     "data": {
      "image/png": "[encoded data removed]",
      "text/plain": [
       "<Figure size 640x480 with 1 Axes>"
      ]
     },
     "metadata": {},
     "output_type": "display_data"
    },
    {
     "data": {
      "image/png": "[encoded data removed]",
      "text/plain": [
       "<Figure size 640x480 with 1 Axes>"
      ]
     },
     "metadata": {},
     "output_type": "display_data"
    },
    {
     "data": {
      "image/png": "[encoded data removed]",
      "text/plain": [
       "<Figure size 640x480 with 1 Axes>"
      ]
     },
     "metadata": {},
     "output_type": "display_data"
    },
    {
     "data": {
      "image/png": "[encoded data removed]",
      "text/plain": [
       "<Figure size 640x480 with 1 Axes>"
      ]
     },
     "metadata": {},
     "output_type": "display_data"
    }
   ],
   "source": [
    "for i in df_num.columns:\n",
    "    sns.distplot(df_num[i])\n",
    "    plt.title(\"Distplot of \" +i)\n",
    "    plt.show();"
   ]
  },
  {
   "cell_type": "code",
   "execution_count": 31,
   "id": "aa65c98b",
   "metadata": {},
   "outputs": [
    {
     "data": {
      "text/plain": [
       "age              0.781389\n",
       "gross_income    56.424731\n",
       "num_Products     2.184694\n",
       "duration         0.546553\n",
       "dtype: float64"
      ]
     },
     "execution_count": 31,
     "metadata": {},
     "output_type": "execute_result"
    }
   ],
   "source": [
    "df_num.skew()"
   ]
  },
  {
   "cell_type": "markdown",
   "id": "f83b2b59",
   "metadata": {},
   "source": [
    "## Handling Outliers\n",
    "\n",
    "- Quantile based flooring and capping"
   ]
  },
  {
   "cell_type": "code",
   "execution_count": 32,
   "id": "5edb7020",
   "metadata": {},
   "outputs": [
    {
     "name": "stdout",
     "output_type": "stream",
     "text": [
      "49037.127\n",
      "234387.876\n"
     ]
    }
   ],
   "source": [
    "print(df_3['gross_income'].quantile(0.10))\n",
    "print(df_3['gross_income'].quantile(0.90))"
   ]
  },
  {
   "cell_type": "code",
   "execution_count": 33,
   "id": "9c8154a2",
   "metadata": {},
   "outputs": [
    {
     "name": "stdout",
     "output_type": "stream",
     "text": [
      "0.7188661013053249\n"
     ]
    }
   ],
   "source": [
    "df_3['gross_income'] = np.where(df_3['gross_income'] < 49037.127, 49037.127, df_3['gross_income'])\n",
    "df_3['gross_income'] = np.where(df_3['gross_income'] > 234387.876, 234387.876, df_3['gross_income'])\n",
    "print(df_3['gross_income'].skew())"
   ]
  },
  {
   "cell_type": "markdown",
   "id": "b2358400",
   "metadata": {},
   "source": [
    "- Log Transformation"
   ]
  },
  {
   "cell_type": "code",
   "execution_count": 34,
   "id": "22e55c03",
   "metadata": {},
   "outputs": [
    {
     "name": "stdout",
     "output_type": "stream",
     "text": [
      "2.184694455542357\n",
      "1.5268295980541475\n"
     ]
    }
   ],
   "source": [
    "df_3['Log_num_Products'] = df_3['num_Products'].map(lambda i: np.log(i) if i > 0 else 0)\n",
    "print(df_3['num_Products'].skew())\n",
    "print(df_3['Log_num_Products'].skew())"
   ]
  },
  {
   "cell_type": "code",
   "execution_count": 35,
   "id": "5c4e2068",
   "metadata": {},
   "outputs": [
    {
     "name": "stdout",
     "output_type": "stream",
     "text": [
      "0.7813886213474018\n",
      "-0.10964484345407931\n"
     ]
    }
   ],
   "source": [
    "df_3['Log_age'] = df_3['age'].map(lambda i: np.log(i) if i > 0 else 0)\n",
    "print(df_3['age'].skew())\n",
    "print(df_3['Log_age'].skew())"
   ]
  },
  {
   "cell_type": "markdown",
   "id": "7d54cb25",
   "metadata": {},
   "source": [
    "- Replacing Outliers with Median Values"
   ]
  },
  {
   "cell_type": "code",
   "execution_count": 36,
   "id": "808da8b6",
   "metadata": {},
   "outputs": [],
   "source": [
    "#print(df_3['num_Products'].quantile(0.50))\n",
    "#print(df_3['num_Products'].quantile(0.95))"
   ]
  },
  {
   "cell_type": "code",
   "execution_count": 37,
   "id": "cfa2cb0e",
   "metadata": {},
   "outputs": [],
   "source": [
    "#df_3['num_Products'] = np.where(df_3['num_Products'] > 5.0, 1.0, df_3['num_Products'])\n",
    "#df_3['num_Products'].skew()"
   ]
  },
  {
   "cell_type": "code",
   "execution_count": 38,
   "id": "4ace173d",
   "metadata": {},
   "outputs": [
    {
     "data": {
      "text/html": [
       "<div>\n",
       "<style scoped>\n",
       "    .dataframe tbody tr th:only-of-type {\n",
       "        vertical-align: middle;\n",
       "    }\n",
       "\n",
       "    .dataframe tbody tr th {\n",
       "        vertical-align: top;\n",
       "    }\n",
       "\n",
       "    .dataframe thead th {\n",
       "        text-align: right;\n",
       "    }\n",
       "</style>\n",
       "<table border=\"1\" class=\"dataframe\">\n",
       "  <thead>\n",
       "    <tr style=\"text-align: right;\">\n",
       "      <th></th>\n",
       "      <th>gender</th>\n",
       "      <th>age</th>\n",
       "      <th>gross_income</th>\n",
       "      <th>segment</th>\n",
       "      <th>tiprel_1mes</th>\n",
       "      <th>ind_actividad_cliente</th>\n",
       "      <th>num_Products</th>\n",
       "      <th>duration</th>\n",
       "      <th>Log_num_Products</th>\n",
       "      <th>Log_age</th>\n",
       "    </tr>\n",
       "  </thead>\n",
       "  <tbody>\n",
       "    <tr>\n",
       "      <th>0</th>\n",
       "      <td>M</td>\n",
       "      <td>21</td>\n",
       "      <td>79070.910</td>\n",
       "      <td>Individuals</td>\n",
       "      <td>I</td>\n",
       "      <td>0</td>\n",
       "      <td>1</td>\n",
       "      <td>1035</td>\n",
       "      <td>0.0</td>\n",
       "      <td>3.044522</td>\n",
       "    </tr>\n",
       "    <tr>\n",
       "      <th>1</th>\n",
       "      <td>M</td>\n",
       "      <td>23</td>\n",
       "      <td>178270.680</td>\n",
       "      <td>College_Graduated</td>\n",
       "      <td>I</td>\n",
       "      <td>0</td>\n",
       "      <td>1</td>\n",
       "      <td>1097</td>\n",
       "      <td>0.0</td>\n",
       "      <td>3.135494</td>\n",
       "    </tr>\n",
       "    <tr>\n",
       "      <th>2</th>\n",
       "      <td>M</td>\n",
       "      <td>24</td>\n",
       "      <td>49037.127</td>\n",
       "      <td>College_Graduated</td>\n",
       "      <td>I</td>\n",
       "      <td>1</td>\n",
       "      <td>1</td>\n",
       "      <td>1866</td>\n",
       "      <td>0.0</td>\n",
       "      <td>3.178054</td>\n",
       "    </tr>\n",
       "    <tr>\n",
       "      <th>3</th>\n",
       "      <td>M</td>\n",
       "      <td>24</td>\n",
       "      <td>130740.540</td>\n",
       "      <td>College_Graduated</td>\n",
       "      <td>I</td>\n",
       "      <td>0</td>\n",
       "      <td>1</td>\n",
       "      <td>1440</td>\n",
       "      <td>0.0</td>\n",
       "      <td>3.178054</td>\n",
       "    </tr>\n",
       "    <tr>\n",
       "      <th>4</th>\n",
       "      <td>M</td>\n",
       "      <td>31</td>\n",
       "      <td>112975.170</td>\n",
       "      <td>Individuals</td>\n",
       "      <td>I</td>\n",
       "      <td>0</td>\n",
       "      <td>0</td>\n",
       "      <td>376</td>\n",
       "      <td>0.0</td>\n",
       "      <td>3.433987</td>\n",
       "    </tr>\n",
       "  </tbody>\n",
       "</table>\n",
       "</div>"
      ],
      "text/plain": [
       "  gender  age  gross_income            segment tiprel_1mes  \\\n",
       "0      M   21     79070.910        Individuals           I   \n",
       "1      M   23    178270.680  College_Graduated           I   \n",
       "2      M   24     49037.127  College_Graduated           I   \n",
       "3      M   24    130740.540  College_Graduated           I   \n",
       "4      M   31    112975.170        Individuals           I   \n",
       "\n",
       "  ind_actividad_cliente  num_Products  duration  Log_num_Products   Log_age  \n",
       "0                     0             1      1035               0.0  3.044522  \n",
       "1                     0             1      1097               0.0  3.135494  \n",
       "2                     1             1      1866               0.0  3.178054  \n",
       "3                     0             1      1440               0.0  3.178054  \n",
       "4                     0             0       376               0.0  3.433987  "
      ]
     },
     "execution_count": 38,
     "metadata": {},
     "output_type": "execute_result"
    }
   ],
   "source": [
    "df_3.head()"
   ]
  },
  {
   "cell_type": "code",
   "execution_count": 39,
   "id": "cfdb986f",
   "metadata": {},
   "outputs": [
    {
     "data": {
      "text/html": [
       "<div>\n",
       "<style scoped>\n",
       "    .dataframe tbody tr th:only-of-type {\n",
       "        vertical-align: middle;\n",
       "    }\n",
       "\n",
       "    .dataframe tbody tr th {\n",
       "        vertical-align: top;\n",
       "    }\n",
       "\n",
       "    .dataframe thead th {\n",
       "        text-align: right;\n",
       "    }\n",
       "</style>\n",
       "<table border=\"1\" class=\"dataframe\">\n",
       "  <thead>\n",
       "    <tr style=\"text-align: right;\">\n",
       "      <th></th>\n",
       "      <th>count</th>\n",
       "      <th>mean</th>\n",
       "      <th>std</th>\n",
       "      <th>min</th>\n",
       "      <th>25%</th>\n",
       "      <th>50%</th>\n",
       "      <th>75%</th>\n",
       "      <th>max</th>\n",
       "    </tr>\n",
       "  </thead>\n",
       "  <tbody>\n",
       "    <tr>\n",
       "      <th>age</th>\n",
       "      <td>54030.0</td>\n",
       "      <td>40.772534</td>\n",
       "      <td>17.210781</td>\n",
       "      <td>2.000000</td>\n",
       "      <td>25.000000</td>\n",
       "      <td>40.000000</td>\n",
       "      <td>51.000000</td>\n",
       "      <td>112.000000</td>\n",
       "    </tr>\n",
       "    <tr>\n",
       "      <th>gross_income</th>\n",
       "      <td>54030.0</td>\n",
       "      <td>117983.683921</td>\n",
       "      <td>59640.524916</td>\n",
       "      <td>49037.127000</td>\n",
       "      <td>68581.072500</td>\n",
       "      <td>101566.320000</td>\n",
       "      <td>156253.755000</td>\n",
       "      <td>234387.876000</td>\n",
       "    </tr>\n",
       "    <tr>\n",
       "      <th>num_Products</th>\n",
       "      <td>54030.0</td>\n",
       "      <td>1.536017</td>\n",
       "      <td>1.578848</td>\n",
       "      <td>0.000000</td>\n",
       "      <td>1.000000</td>\n",
       "      <td>1.000000</td>\n",
       "      <td>2.000000</td>\n",
       "      <td>13.000000</td>\n",
       "    </tr>\n",
       "    <tr>\n",
       "      <th>duration</th>\n",
       "      <td>54030.0</td>\n",
       "      <td>2913.936665</td>\n",
       "      <td>2027.956268</td>\n",
       "      <td>366.000000</td>\n",
       "      <td>1118.000000</td>\n",
       "      <td>2039.500000</td>\n",
       "      <td>4693.000000</td>\n",
       "      <td>7909.000000</td>\n",
       "    </tr>\n",
       "    <tr>\n",
       "      <th>Log_num_Products</th>\n",
       "      <td>54030.0</td>\n",
       "      <td>0.334539</td>\n",
       "      <td>0.560503</td>\n",
       "      <td>0.000000</td>\n",
       "      <td>0.000000</td>\n",
       "      <td>0.000000</td>\n",
       "      <td>0.693147</td>\n",
       "      <td>2.564949</td>\n",
       "    </tr>\n",
       "    <tr>\n",
       "      <th>Log_age</th>\n",
       "      <td>54030.0</td>\n",
       "      <td>3.620000</td>\n",
       "      <td>0.423874</td>\n",
       "      <td>0.693147</td>\n",
       "      <td>3.218876</td>\n",
       "      <td>3.688879</td>\n",
       "      <td>3.931826</td>\n",
       "      <td>4.718499</td>\n",
       "    </tr>\n",
       "  </tbody>\n",
       "</table>\n",
       "</div>"
      ],
      "text/plain": [
       "                    count           mean           std           min  \\\n",
       "age               54030.0      40.772534     17.210781      2.000000   \n",
       "gross_income      54030.0  117983.683921  59640.524916  49037.127000   \n",
       "num_Products      54030.0       1.536017      1.578848      0.000000   \n",
       "duration          54030.0    2913.936665   2027.956268    366.000000   \n",
       "Log_num_Products  54030.0       0.334539      0.560503      0.000000   \n",
       "Log_age           54030.0       3.620000      0.423874      0.693147   \n",
       "\n",
       "                           25%            50%            75%            max  \n",
       "age                  25.000000      40.000000      51.000000     112.000000  \n",
       "gross_income      68581.072500  101566.320000  156253.755000  234387.876000  \n",
       "num_Products          1.000000       1.000000       2.000000      13.000000  \n",
       "duration           1118.000000    2039.500000    4693.000000    7909.000000  \n",
       "Log_num_Products      0.000000       0.000000       0.693147       2.564949  \n",
       "Log_age               3.218876       3.688879       3.931826       4.718499  "
      ]
     },
     "execution_count": 39,
     "metadata": {},
     "output_type": "execute_result"
    }
   ],
   "source": [
    "df_3.describe().T"
   ]
  },
  {
   "cell_type": "markdown",
   "id": "9cfd842a",
   "metadata": {},
   "source": [
    "# Task 2 : Data Exploration and business hypothesis testing"
   ]
  },
  {
   "cell_type": "markdown",
   "id": "64b5c7c0",
   "metadata": {},
   "source": [
    "### 1. For people who were inactive at the start of the study and were active by the time the study ended, is there a pattern in terms of age and gender?"
   ]
  },
  {
   "cell_type": "code",
   "execution_count": 40,
   "id": "62a791f7",
   "metadata": {},
   "outputs": [],
   "source": [
    "I_start = df_3[df_3[\"tiprel_1mes\"] == \"I\"]"
   ]
  },
  {
   "cell_type": "code",
   "execution_count": 41,
   "id": "35624876",
   "metadata": {},
   "outputs": [],
   "source": [
    "A_end = df_3[df_3[\"ind_actividad_cliente\"] == 1]"
   ]
  },
  {
   "cell_type": "code",
   "execution_count": 42,
   "id": "e1098289",
   "metadata": {},
   "outputs": [
    {
     "name": "stdout",
     "output_type": "stream",
     "text": [
      "F    15049\n",
      "M    13977\n",
      "Name: gender, dtype: int64\n"
     ]
    }
   ],
   "source": [
    "print(I_start.gender.value_counts())"
   ]
  },
  {
   "cell_type": "code",
   "execution_count": 43,
   "id": "33ad7a59",
   "metadata": {},
   "outputs": [
    {
     "name": "stdout",
     "output_type": "stream",
     "text": [
      "23     2283\n",
      "24     2218\n",
      "22     2077\n",
      "21     1628\n",
      "25     1436\n",
      "       ... \n",
      "112       1\n",
      "107       1\n",
      "110       1\n",
      "7         1\n",
      "3         1\n",
      "Name: age, Length: 110, dtype: int64\n"
     ]
    }
   ],
   "source": [
    "print(I_start.age.value_counts())"
   ]
  },
  {
   "cell_type": "code",
   "execution_count": 44,
   "id": "36d8ccb3",
   "metadata": {},
   "outputs": [
    {
     "name": "stdout",
     "output_type": "stream",
     "text": [
      "F    14651\n",
      "M    10693\n",
      "Name: gender, dtype: int64\n"
     ]
    }
   ],
   "source": [
    "print(A_end.gender.value_counts())"
   ]
  },
  {
   "cell_type": "code",
   "execution_count": 45,
   "id": "4d873aa8",
   "metadata": {},
   "outputs": [
    {
     "name": "stdout",
     "output_type": "stream",
     "text": [
      "23     869\n",
      "42     814\n",
      "45     810\n",
      "22     808\n",
      "43     800\n",
      "      ... \n",
      "100      2\n",
      "103      1\n",
      "104      1\n",
      "112      1\n",
      "107      1\n",
      "Name: age, Length: 106, dtype: int64\n"
     ]
    }
   ],
   "source": [
    "print(A_end.age.value_counts())"
   ]
  },
  {
   "cell_type": "markdown",
   "id": "6848c0d8-a67a-4fa4-a259-d956e5e0b223",
   "metadata": {},
   "source": [
    "- For both users who were inactive at the start and were active at the end, in terms of gender females number is always higher than males.\n",
    "- And the number of young age users (aged between 20-26) is higher who were inactive at the start as compared to the users who were active at the end."
   ]
  },
  {
   "cell_type": "markdown",
   "id": "60348035",
   "metadata": {},
   "source": [
    "### 2. Do people with more than average annual income tend to have relatively high activity rates compared to people with less than average annual income?"
   ]
  },
  {
   "cell_type": "code",
   "execution_count": 46,
   "id": "21ccb908",
   "metadata": {},
   "outputs": [
    {
     "data": {
      "text/plain": [
       "tiprel_1mes  ind_actividad_cliente\n",
       "A            0                          863\n",
       "             1                        10469\n",
       "I            0                         9746\n",
       "             1                          906\n",
       "dtype: int64"
      ]
     },
     "execution_count": 46,
     "metadata": {},
     "output_type": "execute_result"
    }
   ],
   "source": [
    "avg = df_3['gross_income'].mean()\n",
    "df_3[df_3['gross_income']>avg].groupby(['tiprel_1mes','ind_actividad_cliente']).size()"
   ]
  },
  {
   "cell_type": "code",
   "execution_count": 47,
   "id": "af05a2ce",
   "metadata": {},
   "outputs": [
    {
     "data": {
      "text/plain": [
       "tiprel_1mes  ind_actividad_cliente\n",
       "A            0                         1235\n",
       "             1                        12437\n",
       "I            0                        16842\n",
       "             1                         1532\n",
       "dtype: int64"
      ]
     },
     "execution_count": 47,
     "metadata": {},
     "output_type": "execute_result"
    }
   ],
   "source": [
    "df_3[df_3['gross_income']<avg].groupby(['tiprel_1mes','ind_actividad_cliente']).size()"
   ]
  },
  {
   "cell_type": "markdown",
   "id": "f665f184-74da-4ae8-b808-cc27eedd782a",
   "metadata": {},
   "source": [
    "- People with annual income less than average annual income have relatively high activity rates compared to people with more than average annual income."
   ]
  },
  {
   "cell_type": "markdown",
   "id": "dfe87d6e",
   "metadata": {},
   "source": [
    "### 3. What is the relationship between the number of products owned by customers who were active at the start and at the end vs those who were active at the start but were inactive at the end of the study period?"
   ]
  },
  {
   "cell_type": "code",
   "execution_count": 48,
   "id": "0d2cb9df",
   "metadata": {},
   "outputs": [],
   "source": [
    "A_start = df_3[df_3[\"tiprel_1mes\"] == \"A\"]\n",
    "I_end = df_3[df_3[\"ind_actividad_cliente\"] == 0]"
   ]
  },
  {
   "cell_type": "code",
   "execution_count": 49,
   "id": "1d044bfa",
   "metadata": {
    "scrolled": true
   },
   "outputs": [
    {
     "name": "stdout",
     "output_type": "stream",
     "text": [
      "num_Products\n",
      "0      818\n",
      "1     9402\n",
      "2     6254\n",
      "3     3144\n",
      "4     1895\n",
      "5     1301\n",
      "6      955\n",
      "7      650\n",
      "8      348\n",
      "9      156\n",
      "10      52\n",
      "11      18\n",
      "12       9\n",
      "13       2\n",
      "dtype: int64\n"
     ]
    }
   ],
   "source": [
    "print(A_start.groupby([\"num_Products\"]).size())"
   ]
  },
  {
   "cell_type": "code",
   "execution_count": 50,
   "id": "d7b8269c",
   "metadata": {},
   "outputs": [
    {
     "name": "stdout",
     "output_type": "stream",
     "text": [
      "num_Products\n",
      "0        83\n",
      "1     10122\n",
      "2      6566\n",
      "3      3181\n",
      "4      1901\n",
      "5      1301\n",
      "6       955\n",
      "7       650\n",
      "8       348\n",
      "9       156\n",
      "10       52\n",
      "11       18\n",
      "12        9\n",
      "13        2\n",
      "dtype: int64\n"
     ]
    }
   ],
   "source": [
    "print(A_end.groupby([\"num_Products\"]).size())"
   ]
  },
  {
   "cell_type": "code",
   "execution_count": 51,
   "id": "d1b5bd58",
   "metadata": {},
   "outputs": [
    {
     "name": "stdout",
     "output_type": "stream",
     "text": [
      "num_Products\n",
      "0     9490\n",
      "1    17695\n",
      "2     1439\n",
      "3       56\n",
      "4        6\n",
      "dtype: int64\n"
     ]
    }
   ],
   "source": [
    "print(I_end.groupby([\"num_Products\"]).size())"
   ]
  },
  {
   "cell_type": "markdown",
   "id": "f2e29f0e",
   "metadata": {},
   "source": [
    "- Thus, number of products owned are greater for customers who are active in start and in the end."
   ]
  },
  {
   "cell_type": "markdown",
   "id": "ddc4753b",
   "metadata": {},
   "source": [
    "### 4. How people who display consistent behaviour (active at start and active at end, inactive at start and inactive at end) differ from people who display a change in their behaviour (active at start but inactive at the end or inactive at start but active at end)?"
   ]
  },
  {
   "cell_type": "code",
   "execution_count": 52,
   "id": "e4c7a5d9",
   "metadata": {},
   "outputs": [],
   "source": [
    "#Consistent Behaviour\n",
    "consistent_behavior = df_3.loc[((df_3['tiprel_1mes'] == 'A') & (df_3['ind_actividad_cliente'] == 1)) | (df_3['tiprel_1mes'] == 'I') & (df_3['ind_actividad_cliente'] == 0)]"
   ]
  },
  {
   "cell_type": "code",
   "execution_count": 53,
   "id": "40bd5bf1",
   "metadata": {},
   "outputs": [
    {
     "data": {
      "text/html": [
       "<div>\n",
       "<style scoped>\n",
       "    .dataframe tbody tr th:only-of-type {\n",
       "        vertical-align: middle;\n",
       "    }\n",
       "\n",
       "    .dataframe tbody tr th {\n",
       "        vertical-align: top;\n",
       "    }\n",
       "\n",
       "    .dataframe thead th {\n",
       "        text-align: right;\n",
       "    }\n",
       "</style>\n",
       "<table border=\"1\" class=\"dataframe\">\n",
       "  <thead>\n",
       "    <tr style=\"text-align: right;\">\n",
       "      <th></th>\n",
       "      <th>gender</th>\n",
       "      <th>age</th>\n",
       "      <th>gross_income</th>\n",
       "      <th>segment</th>\n",
       "      <th>tiprel_1mes</th>\n",
       "      <th>ind_actividad_cliente</th>\n",
       "      <th>num_Products</th>\n",
       "      <th>duration</th>\n",
       "      <th>Log_num_Products</th>\n",
       "      <th>Log_age</th>\n",
       "    </tr>\n",
       "  </thead>\n",
       "  <tbody>\n",
       "    <tr>\n",
       "      <th>0</th>\n",
       "      <td>M</td>\n",
       "      <td>21</td>\n",
       "      <td>79070.910</td>\n",
       "      <td>Individuals</td>\n",
       "      <td>I</td>\n",
       "      <td>0</td>\n",
       "      <td>1</td>\n",
       "      <td>1035</td>\n",
       "      <td>0.000000</td>\n",
       "      <td>3.044522</td>\n",
       "    </tr>\n",
       "    <tr>\n",
       "      <th>1</th>\n",
       "      <td>M</td>\n",
       "      <td>23</td>\n",
       "      <td>178270.680</td>\n",
       "      <td>College_Graduated</td>\n",
       "      <td>I</td>\n",
       "      <td>0</td>\n",
       "      <td>1</td>\n",
       "      <td>1097</td>\n",
       "      <td>0.000000</td>\n",
       "      <td>3.135494</td>\n",
       "    </tr>\n",
       "    <tr>\n",
       "      <th>3</th>\n",
       "      <td>M</td>\n",
       "      <td>24</td>\n",
       "      <td>130740.540</td>\n",
       "      <td>College_Graduated</td>\n",
       "      <td>I</td>\n",
       "      <td>0</td>\n",
       "      <td>1</td>\n",
       "      <td>1440</td>\n",
       "      <td>0.000000</td>\n",
       "      <td>3.178054</td>\n",
       "    </tr>\n",
       "    <tr>\n",
       "      <th>4</th>\n",
       "      <td>M</td>\n",
       "      <td>31</td>\n",
       "      <td>112975.170</td>\n",
       "      <td>Individuals</td>\n",
       "      <td>I</td>\n",
       "      <td>0</td>\n",
       "      <td>0</td>\n",
       "      <td>376</td>\n",
       "      <td>0.000000</td>\n",
       "      <td>3.433987</td>\n",
       "    </tr>\n",
       "    <tr>\n",
       "      <th>5</th>\n",
       "      <td>F</td>\n",
       "      <td>32</td>\n",
       "      <td>49037.127</td>\n",
       "      <td>Individuals</td>\n",
       "      <td>A</td>\n",
       "      <td>1</td>\n",
       "      <td>4</td>\n",
       "      <td>699</td>\n",
       "      <td>1.386294</td>\n",
       "      <td>3.465736</td>\n",
       "    </tr>\n",
       "  </tbody>\n",
       "</table>\n",
       "</div>"
      ],
      "text/plain": [
       "  gender  age  gross_income            segment tiprel_1mes  \\\n",
       "0      M   21     79070.910        Individuals           I   \n",
       "1      M   23    178270.680  College_Graduated           I   \n",
       "3      M   24    130740.540  College_Graduated           I   \n",
       "4      M   31    112975.170        Individuals           I   \n",
       "5      F   32     49037.127        Individuals           A   \n",
       "\n",
       "  ind_actividad_cliente  num_Products  duration  Log_num_Products   Log_age  \n",
       "0                     0             1      1035          0.000000  3.044522  \n",
       "1                     0             1      1097          0.000000  3.135494  \n",
       "3                     0             1      1440          0.000000  3.178054  \n",
       "4                     0             0       376          0.000000  3.433987  \n",
       "5                     1             4       699          1.386294  3.465736  "
      ]
     },
     "execution_count": 53,
     "metadata": {},
     "output_type": "execute_result"
    }
   ],
   "source": [
    "consistent_behavior.head()"
   ]
  },
  {
   "cell_type": "code",
   "execution_count": 54,
   "id": "c4de7d74",
   "metadata": {},
   "outputs": [],
   "source": [
    "#Inconsistent Behaviour\n",
    "inconsistent_behavior = df_3.loc[((df_3['tiprel_1mes'] == 'A') & (df_3['ind_actividad_cliente'] == 0)) | (df_3['tiprel_1mes'] == 'I') & (df_3['ind_actividad_cliente'] == 1)]"
   ]
  },
  {
   "cell_type": "code",
   "execution_count": 55,
   "id": "9b560942",
   "metadata": {},
   "outputs": [
    {
     "data": {
      "text/html": [
       "<div>\n",
       "<style scoped>\n",
       "    .dataframe tbody tr th:only-of-type {\n",
       "        vertical-align: middle;\n",
       "    }\n",
       "\n",
       "    .dataframe tbody tr th {\n",
       "        vertical-align: top;\n",
       "    }\n",
       "\n",
       "    .dataframe thead th {\n",
       "        text-align: right;\n",
       "    }\n",
       "</style>\n",
       "<table border=\"1\" class=\"dataframe\">\n",
       "  <thead>\n",
       "    <tr style=\"text-align: right;\">\n",
       "      <th></th>\n",
       "      <th>gender</th>\n",
       "      <th>age</th>\n",
       "      <th>gross_income</th>\n",
       "      <th>segment</th>\n",
       "      <th>tiprel_1mes</th>\n",
       "      <th>ind_actividad_cliente</th>\n",
       "      <th>num_Products</th>\n",
       "      <th>duration</th>\n",
       "      <th>Log_num_Products</th>\n",
       "      <th>Log_age</th>\n",
       "    </tr>\n",
       "  </thead>\n",
       "  <tbody>\n",
       "    <tr>\n",
       "      <th>2</th>\n",
       "      <td>M</td>\n",
       "      <td>24</td>\n",
       "      <td>49037.127</td>\n",
       "      <td>College_Graduated</td>\n",
       "      <td>I</td>\n",
       "      <td>1</td>\n",
       "      <td>1</td>\n",
       "      <td>1866</td>\n",
       "      <td>0.000000</td>\n",
       "      <td>3.178054</td>\n",
       "    </tr>\n",
       "    <tr>\n",
       "      <th>6</th>\n",
       "      <td>F</td>\n",
       "      <td>43</td>\n",
       "      <td>131281.500</td>\n",
       "      <td>Individuals</td>\n",
       "      <td>A</td>\n",
       "      <td>0</td>\n",
       "      <td>1</td>\n",
       "      <td>5022</td>\n",
       "      <td>0.000000</td>\n",
       "      <td>3.761200</td>\n",
       "    </tr>\n",
       "    <tr>\n",
       "      <th>9</th>\n",
       "      <td>M</td>\n",
       "      <td>26</td>\n",
       "      <td>49037.127</td>\n",
       "      <td>College_Graduated</td>\n",
       "      <td>I</td>\n",
       "      <td>1</td>\n",
       "      <td>1</td>\n",
       "      <td>1458</td>\n",
       "      <td>0.000000</td>\n",
       "      <td>3.258097</td>\n",
       "    </tr>\n",
       "    <tr>\n",
       "      <th>97</th>\n",
       "      <td>F</td>\n",
       "      <td>84</td>\n",
       "      <td>71984.220</td>\n",
       "      <td>Individuals</td>\n",
       "      <td>I</td>\n",
       "      <td>1</td>\n",
       "      <td>1</td>\n",
       "      <td>2874</td>\n",
       "      <td>0.000000</td>\n",
       "      <td>4.430817</td>\n",
       "    </tr>\n",
       "    <tr>\n",
       "      <th>116</th>\n",
       "      <td>F</td>\n",
       "      <td>43</td>\n",
       "      <td>165731.040</td>\n",
       "      <td>Individuals</td>\n",
       "      <td>A</td>\n",
       "      <td>0</td>\n",
       "      <td>3</td>\n",
       "      <td>5585</td>\n",
       "      <td>1.098612</td>\n",
       "      <td>3.761200</td>\n",
       "    </tr>\n",
       "  </tbody>\n",
       "</table>\n",
       "</div>"
      ],
      "text/plain": [
       "    gender  age  gross_income            segment tiprel_1mes  \\\n",
       "2        M   24     49037.127  College_Graduated           I   \n",
       "6        F   43    131281.500        Individuals           A   \n",
       "9        M   26     49037.127  College_Graduated           I   \n",
       "97       F   84     71984.220        Individuals           I   \n",
       "116      F   43    165731.040        Individuals           A   \n",
       "\n",
       "    ind_actividad_cliente  num_Products  duration  Log_num_Products   Log_age  \n",
       "2                       1             1      1866          0.000000  3.178054  \n",
       "6                       0             1      5022          0.000000  3.761200  \n",
       "9                       1             1      1458          0.000000  3.258097  \n",
       "97                      1             1      2874          0.000000  4.430817  \n",
       "116                     0             3      5585          1.098612  3.761200  "
      ]
     },
     "execution_count": 55,
     "metadata": {},
     "output_type": "execute_result"
    }
   ],
   "source": [
    "inconsistent_behavior.head()"
   ]
  },
  {
   "cell_type": "markdown",
   "id": "4930ac4a",
   "metadata": {},
   "source": [
    "### 5. Generate elaborate profiles for the following four groups:\n",
    "- Active at the start but inactive at the end\n",
    "- Active at the start and active by the end\n",
    "- Inactive at the start but active at the end\n",
    "- Inactive at the start and inactive at the end"
   ]
  },
  {
   "cell_type": "code",
   "execution_count": 57,
   "id": "5cce7826",
   "metadata": {},
   "outputs": [
    {
     "data": {
      "text/html": [
       "<div>\n",
       "<style scoped>\n",
       "    .dataframe tbody tr th:only-of-type {\n",
       "        vertical-align: middle;\n",
       "    }\n",
       "\n",
       "    .dataframe tbody tr th {\n",
       "        vertical-align: top;\n",
       "    }\n",
       "\n",
       "    .dataframe thead th {\n",
       "        text-align: right;\n",
       "    }\n",
       "</style>\n",
       "<table border=\"1\" class=\"dataframe\">\n",
       "  <thead>\n",
       "    <tr style=\"text-align: right;\">\n",
       "      <th></th>\n",
       "      <th>count</th>\n",
       "      <th>mean</th>\n",
       "      <th>std</th>\n",
       "      <th>min</th>\n",
       "      <th>25%</th>\n",
       "      <th>50%</th>\n",
       "      <th>75%</th>\n",
       "      <th>max</th>\n",
       "    </tr>\n",
       "  </thead>\n",
       "  <tbody>\n",
       "    <tr>\n",
       "      <th>age</th>\n",
       "      <td>49494.00000</td>\n",
       "      <td>40.65545</td>\n",
       "      <td>17.09751</td>\n",
       "      <td>2.00000</td>\n",
       "      <td>25.00000</td>\n",
       "      <td>39.00000</td>\n",
       "      <td>51.00000</td>\n",
       "      <td>112.00000</td>\n",
       "    </tr>\n",
       "    <tr>\n",
       "      <th>gross_income</th>\n",
       "      <td>49494.00000</td>\n",
       "      <td>118124.79238</td>\n",
       "      <td>59653.90692</td>\n",
       "      <td>49037.12700</td>\n",
       "      <td>68712.24000</td>\n",
       "      <td>101729.50500</td>\n",
       "      <td>156720.05250</td>\n",
       "      <td>234387.87600</td>\n",
       "    </tr>\n",
       "    <tr>\n",
       "      <th>num_Products</th>\n",
       "      <td>49494.00000</td>\n",
       "      <td>1.58084</td>\n",
       "      <td>1.63027</td>\n",
       "      <td>0.00000</td>\n",
       "      <td>1.00000</td>\n",
       "      <td>1.00000</td>\n",
       "      <td>2.00000</td>\n",
       "      <td>13.00000</td>\n",
       "    </tr>\n",
       "    <tr>\n",
       "      <th>duration</th>\n",
       "      <td>49494.00000</td>\n",
       "      <td>2905.25696</td>\n",
       "      <td>2017.98706</td>\n",
       "      <td>366.00000</td>\n",
       "      <td>1131.00000</td>\n",
       "      <td>2025.00000</td>\n",
       "      <td>4654.00000</td>\n",
       "      <td>7909.00000</td>\n",
       "    </tr>\n",
       "    <tr>\n",
       "      <th>Log_num_Products</th>\n",
       "      <td>49494.00000</td>\n",
       "      <td>0.35221</td>\n",
       "      <td>0.57545</td>\n",
       "      <td>0.00000</td>\n",
       "      <td>0.00000</td>\n",
       "      <td>0.00000</td>\n",
       "      <td>0.69315</td>\n",
       "      <td>2.56495</td>\n",
       "    </tr>\n",
       "    <tr>\n",
       "      <th>Log_age</th>\n",
       "      <td>49494.00000</td>\n",
       "      <td>3.61782</td>\n",
       "      <td>0.42210</td>\n",
       "      <td>0.69315</td>\n",
       "      <td>3.21888</td>\n",
       "      <td>3.66356</td>\n",
       "      <td>3.93183</td>\n",
       "      <td>4.71850</td>\n",
       "    </tr>\n",
       "  </tbody>\n",
       "</table>\n",
       "</div>"
      ],
      "text/plain": [
       "                        count          mean          std          min  \\\n",
       "age               49494.00000      40.65545     17.09751      2.00000   \n",
       "gross_income      49494.00000  118124.79238  59653.90692  49037.12700   \n",
       "num_Products      49494.00000       1.58084      1.63027      0.00000   \n",
       "duration          49494.00000    2905.25696   2017.98706    366.00000   \n",
       "Log_num_Products  49494.00000       0.35221      0.57545      0.00000   \n",
       "Log_age           49494.00000       3.61782      0.42210      0.69315   \n",
       "\n",
       "                          25%           50%           75%           max  \n",
       "age                  25.00000      39.00000      51.00000     112.00000  \n",
       "gross_income      68712.24000  101729.50500  156720.05250  234387.87600  \n",
       "num_Products          1.00000       1.00000       2.00000      13.00000  \n",
       "duration           1131.00000    2025.00000    4654.00000    7909.00000  \n",
       "Log_num_Products      0.00000       0.00000       0.69315       2.56495  \n",
       "Log_age               3.21888       3.66356       3.93183       4.71850  "
      ]
     },
     "execution_count": 57,
     "metadata": {},
     "output_type": "execute_result"
    }
   ],
   "source": [
    "consistent_behavior.describe().apply(lambda s: s.apply('{0:.5f}'.format)).transpose()"
   ]
  },
  {
   "cell_type": "code",
   "execution_count": 58,
   "id": "2dedea69",
   "metadata": {},
   "outputs": [
    {
     "data": {
      "text/html": [
       "<div>\n",
       "<style scoped>\n",
       "    .dataframe tbody tr th:only-of-type {\n",
       "        vertical-align: middle;\n",
       "    }\n",
       "\n",
       "    .dataframe tbody tr th {\n",
       "        vertical-align: top;\n",
       "    }\n",
       "\n",
       "    .dataframe thead th {\n",
       "        text-align: right;\n",
       "    }\n",
       "</style>\n",
       "<table border=\"1\" class=\"dataframe\">\n",
       "  <thead>\n",
       "    <tr style=\"text-align: right;\">\n",
       "      <th></th>\n",
       "      <th>count</th>\n",
       "      <th>unique</th>\n",
       "      <th>top</th>\n",
       "      <th>freq</th>\n",
       "    </tr>\n",
       "  </thead>\n",
       "  <tbody>\n",
       "    <tr>\n",
       "      <th>gender</th>\n",
       "      <td>49494</td>\n",
       "      <td>2</td>\n",
       "      <td>F</td>\n",
       "      <td>27112</td>\n",
       "    </tr>\n",
       "    <tr>\n",
       "      <th>segment</th>\n",
       "      <td>49494</td>\n",
       "      <td>3</td>\n",
       "      <td>Individuals</td>\n",
       "      <td>29607</td>\n",
       "    </tr>\n",
       "    <tr>\n",
       "      <th>tiprel_1mes</th>\n",
       "      <td>49494</td>\n",
       "      <td>2</td>\n",
       "      <td>I</td>\n",
       "      <td>26588</td>\n",
       "    </tr>\n",
       "    <tr>\n",
       "      <th>ind_actividad_cliente</th>\n",
       "      <td>49494</td>\n",
       "      <td>2</td>\n",
       "      <td>0</td>\n",
       "      <td>26588</td>\n",
       "    </tr>\n",
       "  </tbody>\n",
       "</table>\n",
       "</div>"
      ],
      "text/plain": [
       "                       count unique          top   freq\n",
       "gender                 49494      2            F  27112\n",
       "segment                49494      3  Individuals  29607\n",
       "tiprel_1mes            49494      2            I  26588\n",
       "ind_actividad_cliente  49494      2            0  26588"
      ]
     },
     "execution_count": 58,
     "metadata": {},
     "output_type": "execute_result"
    }
   ],
   "source": [
    "consistent_behavior.describe(include=object).transpose()"
   ]
  },
  {
   "cell_type": "code",
   "execution_count": 59,
   "id": "1e6f8d3e",
   "metadata": {},
   "outputs": [
    {
     "data": {
      "text/html": [
       "<div>\n",
       "<style scoped>\n",
       "    .dataframe tbody tr th:only-of-type {\n",
       "        vertical-align: middle;\n",
       "    }\n",
       "\n",
       "    .dataframe tbody tr th {\n",
       "        vertical-align: top;\n",
       "    }\n",
       "\n",
       "    .dataframe thead th {\n",
       "        text-align: right;\n",
       "    }\n",
       "</style>\n",
       "<table border=\"1\" class=\"dataframe\">\n",
       "  <thead>\n",
       "    <tr style=\"text-align: right;\">\n",
       "      <th></th>\n",
       "      <th>count</th>\n",
       "      <th>mean</th>\n",
       "      <th>std</th>\n",
       "      <th>min</th>\n",
       "      <th>25%</th>\n",
       "      <th>50%</th>\n",
       "      <th>75%</th>\n",
       "      <th>max</th>\n",
       "    </tr>\n",
       "  </thead>\n",
       "  <tbody>\n",
       "    <tr>\n",
       "      <th>age</th>\n",
       "      <td>4536.00000</td>\n",
       "      <td>42.05004</td>\n",
       "      <td>18.35497</td>\n",
       "      <td>2.00000</td>\n",
       "      <td>25.00000</td>\n",
       "      <td>41.00000</td>\n",
       "      <td>53.00000</td>\n",
       "      <td>105.00000</td>\n",
       "    </tr>\n",
       "    <tr>\n",
       "      <th>gross_income</th>\n",
       "      <td>4536.00000</td>\n",
       "      <td>116443.99654</td>\n",
       "      <td>59479.11979</td>\n",
       "      <td>49037.12700</td>\n",
       "      <td>67465.80750</td>\n",
       "      <td>99893.04000</td>\n",
       "      <td>152412.08250</td>\n",
       "      <td>234387.87600</td>\n",
       "    </tr>\n",
       "    <tr>\n",
       "      <th>num_Products</th>\n",
       "      <td>4536.00000</td>\n",
       "      <td>1.04696</td>\n",
       "      <td>0.65658</td>\n",
       "      <td>0.00000</td>\n",
       "      <td>1.00000</td>\n",
       "      <td>1.00000</td>\n",
       "      <td>1.00000</td>\n",
       "      <td>4.00000</td>\n",
       "    </tr>\n",
       "    <tr>\n",
       "      <th>duration</th>\n",
       "      <td>4536.00000</td>\n",
       "      <td>3008.64418</td>\n",
       "      <td>2131.64643</td>\n",
       "      <td>366.00000</td>\n",
       "      <td>1073.00000</td>\n",
       "      <td>2310.50000</td>\n",
       "      <td>5039.00000</td>\n",
       "      <td>7879.00000</td>\n",
       "    </tr>\n",
       "    <tr>\n",
       "      <th>Log_num_Products</th>\n",
       "      <td>4536.00000</td>\n",
       "      <td>0.14171</td>\n",
       "      <td>0.29720</td>\n",
       "      <td>0.00000</td>\n",
       "      <td>0.00000</td>\n",
       "      <td>0.00000</td>\n",
       "      <td>0.00000</td>\n",
       "      <td>1.38629</td>\n",
       "    </tr>\n",
       "    <tr>\n",
       "      <th>Log_age</th>\n",
       "      <td>4536.00000</td>\n",
       "      <td>3.64373</td>\n",
       "      <td>0.44211</td>\n",
       "      <td>0.69315</td>\n",
       "      <td>3.21888</td>\n",
       "      <td>3.71357</td>\n",
       "      <td>3.97029</td>\n",
       "      <td>4.65396</td>\n",
       "    </tr>\n",
       "  </tbody>\n",
       "</table>\n",
       "</div>"
      ],
      "text/plain": [
       "                       count          mean          std          min  \\\n",
       "age               4536.00000      42.05004     18.35497      2.00000   \n",
       "gross_income      4536.00000  116443.99654  59479.11979  49037.12700   \n",
       "num_Products      4536.00000       1.04696      0.65658      0.00000   \n",
       "duration          4536.00000    3008.64418   2131.64643    366.00000   \n",
       "Log_num_Products  4536.00000       0.14171      0.29720      0.00000   \n",
       "Log_age           4536.00000       3.64373      0.44211      0.69315   \n",
       "\n",
       "                          25%          50%           75%           max  \n",
       "age                  25.00000     41.00000      53.00000     105.00000  \n",
       "gross_income      67465.80750  99893.04000  152412.08250  234387.87600  \n",
       "num_Products          1.00000      1.00000       1.00000       4.00000  \n",
       "duration           1073.00000   2310.50000    5039.00000    7879.00000  \n",
       "Log_num_Products      0.00000      0.00000       0.00000       1.38629  \n",
       "Log_age               3.21888      3.71357       3.97029       4.65396  "
      ]
     },
     "execution_count": 59,
     "metadata": {},
     "output_type": "execute_result"
    }
   ],
   "source": [
    "inconsistent_behavior.describe().apply(lambda s: s.apply('{0:.5f}'.format)).transpose()"
   ]
  },
  {
   "cell_type": "code",
   "execution_count": 60,
   "id": "12005034",
   "metadata": {},
   "outputs": [
    {
     "data": {
      "text/html": [
       "<div>\n",
       "<style scoped>\n",
       "    .dataframe tbody tr th:only-of-type {\n",
       "        vertical-align: middle;\n",
       "    }\n",
       "\n",
       "    .dataframe tbody tr th {\n",
       "        vertical-align: top;\n",
       "    }\n",
       "\n",
       "    .dataframe thead th {\n",
       "        text-align: right;\n",
       "    }\n",
       "</style>\n",
       "<table border=\"1\" class=\"dataframe\">\n",
       "  <thead>\n",
       "    <tr style=\"text-align: right;\">\n",
       "      <th></th>\n",
       "      <th>count</th>\n",
       "      <th>unique</th>\n",
       "      <th>top</th>\n",
       "      <th>freq</th>\n",
       "    </tr>\n",
       "  </thead>\n",
       "  <tbody>\n",
       "    <tr>\n",
       "      <th>gender</th>\n",
       "      <td>4536</td>\n",
       "      <td>2</td>\n",
       "      <td>F</td>\n",
       "      <td>2569</td>\n",
       "    </tr>\n",
       "    <tr>\n",
       "      <th>segment</th>\n",
       "      <td>4536</td>\n",
       "      <td>3</td>\n",
       "      <td>Individuals</td>\n",
       "      <td>3000</td>\n",
       "    </tr>\n",
       "    <tr>\n",
       "      <th>tiprel_1mes</th>\n",
       "      <td>4536</td>\n",
       "      <td>2</td>\n",
       "      <td>I</td>\n",
       "      <td>2438</td>\n",
       "    </tr>\n",
       "    <tr>\n",
       "      <th>ind_actividad_cliente</th>\n",
       "      <td>4536</td>\n",
       "      <td>2</td>\n",
       "      <td>1</td>\n",
       "      <td>2438</td>\n",
       "    </tr>\n",
       "  </tbody>\n",
       "</table>\n",
       "</div>"
      ],
      "text/plain": [
       "                      count unique          top  freq\n",
       "gender                 4536      2            F  2569\n",
       "segment                4536      3  Individuals  3000\n",
       "tiprel_1mes            4536      2            I  2438\n",
       "ind_actividad_cliente  4536      2            1  2438"
      ]
     },
     "execution_count": 60,
     "metadata": {},
     "output_type": "execute_result"
    }
   ],
   "source": [
    "inconsistent_behavior.describe(include=object).transpose()"
   ]
  },
  {
   "cell_type": "code",
   "execution_count": null,
   "id": "a86c63a2",
   "metadata": {},
   "outputs": [],
   "source": []
  }
 ],
 "metadata": {
  "kernelspec": {
   "display_name": "Python 3 (ipykernel)",
   "language": "python",
   "name": "python3"
  },
  "language_info": {
   "codemirror_mode": {
    "name": "ipython",
    "version": 3
   },
   "file_extension": ".py",
   "mimetype": "text/x-python",
   "name": "python",
   "nbconvert_exporter": "python",
   "pygments_lexer": "ipython3",
   "version": "3.9.15"
  }
 },
 "nbformat": 4,
 "nbformat_minor": 5
}
